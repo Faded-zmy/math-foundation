{
 "cells": [
  {
   "cell_type": "code",
   "execution_count": 6,
   "metadata": {},
   "outputs": [],
   "source": [
    "%matplotlib inline\n",
    "%config InlineBackend.figure_format = 'retina'\n",
    "\n",
    "from IPython.core.pylabtools import figsize\n",
    "\n",
    "from scipy.stats import uniform, gamma, poisson\n",
    "import matplotlib.pyplot as plt\n",
    "import numpy\n",
    "from numpy import log,exp,pi\n",
    "from numpy.random import multinomial, multivariate_normal"
   ]
  },
  {
   "cell_type": "code",
   "execution_count": 2,
   "metadata": {},
   "outputs": [],
   "source": [
    "numpy.random.seed(123)\n",
    "\n",
    "# Generate data\n",
    "N=1000\n",
    "data=multivariate_normal([0,0],[[1, 0.4],[0.4, 1]],N)\n",
    "x=data[:,0]\n",
    "y=data[:,1]"
   ]
  },
  {
   "cell_type": "code",
   "execution_count": 10,
   "metadata": {},
   "outputs": [],
   "source": [
    "E=10000\n",
    "BURN_IN=0\n",
    "\n",
    "# Initialize the chain. \n",
    "rho=0 # as if there's no correlation at all.\n",
    "\n",
    "# Store the samples\n",
    "chain_rho=numpy.array([0.]*(E-BURN_IN))"
   ]
  },
  {
   "cell_type": "code",
   "execution_count": 12,
   "metadata": {},
   "outputs": [],
   "source": [
    "accepted_number=0.\n",
    "for e in range(E):\n",
    "#     print(\"At iteration \"+str(e))\n",
    "    # Draw a value from the proposal distribution, Uniform(rho-0.07,rho+0.07); Equation 7\n",
    "    rho_candidate=uniform.rvs(rho-0.07,2*0.07)\n",
    "\n",
    "    # Compute the acceptance probability, Equation 8 and Equation 6. \n",
    "    # We will do both equations in log domain here to avoid underflow.\n",
    "    accept=-3./2*log(1.-rho_candidate**2) - N*log((1.-rho_candidate**2)**(1./2)) - sum(1./(2.*(1.-rho_candidate**2))*(x**2-2.*rho_candidate*x*y+y**2))\n",
    "    accept=accept-(-3./2*log(1.-rho**2) - N*log((1.-rho**2)**(1./2)) - sum(1./(2.*(1.-rho**2))*(x**2-2.*rho*x*y+y**2)))\n",
    "    accept=min([0,accept])\n",
    "    accept=exp(accept)\n",
    "\n",
    "    # Accept rho_candidate with probability accept.\n",
    "    if uniform.rvs(0,1)<accept:\n",
    "        rho=rho_candidate\n",
    "        accepted_number=accepted_number+1\n",
    "    else:\n",
    "        rho=rho\n",
    "\n",
    "    # store\n",
    "    if e>=BURN_IN:\n",
    "        chain_rho[e-BURN_IN]=rho"
   ]
  },
  {
   "cell_type": "code",
   "execution_count": 13,
   "metadata": {},
   "outputs": [
    {
     "name": "stdout",
     "output_type": "stream",
     "text": [
      "Acceptance ratio is 0.5052\n",
      "Mean rho is 0.427898533436\n",
      "Std for rho is 0.0243638045279\n",
      "Compare with numpy.cov function: [[ 0.97843813  0.40596167]\n",
      " [ 0.40596167  0.96105648]]\n"
     ]
    }
   ],
   "source": [
    "print(\"Acceptance ratio is \"+str(accepted_number/(E)))\n",
    "print(\"Mean rho is \"+str(chain_rho.mean()))\n",
    "print(\"Std for rho is \"+str(chain_rho.std()))\n",
    "print(\"Compare with numpy.cov function: \"+str(numpy.cov(data.T)))"
   ]
  },
  {
   "cell_type": "code",
   "execution_count": 14,
   "metadata": {},
   "outputs": [],
   "source": [
    "figsize(16,8)\n",
    "# make one big subplots and put everything in it.\n",
    "f, (ax1,ax2,ax3)=plt.subplots(3,1)\n",
    "# Plot the data\n",
    "_ = ax1.scatter(x,y,s=20,c='b',marker='o')\n",
    "# plot things\n",
    "ax2.plot(chain_rho,'b')\n",
    "ax2.set_ylabel('$rho$')\n",
    "ax3.hist(chain_rho,50)\n",
    "ax3.set_xlabel('$rho$')\n",
    "\n",
    "plt.show()"
   ]
  },
  {
   "cell_type": "code",
   "execution_count": null,
   "metadata": {},
   "outputs": [],
   "source": []
  }
 ],
 "metadata": {
  "kernelspec": {
   "display_name": "Python 3",
   "language": "python",
   "name": "python3"
  },
  "language_info": {
   "codemirror_mode": {
    "name": "ipython",
    "version": 3
   },
   "file_extension": ".py",
   "mimetype": "text/x-python",
   "name": "python",
   "nbconvert_exporter": "python",
   "pygments_lexer": "ipython3",
   "version": "3.6.3"
  }
 },
 "nbformat": 4,
 "nbformat_minor": 2
}
