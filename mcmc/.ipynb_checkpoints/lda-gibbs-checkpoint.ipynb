{
 "cells": [
  {
   "cell_type": "markdown",
   "metadata": {},
   "source": [
    "## LDA - Gibbs 采样\n",
    "![](http://static.zybuluo.com/zhuanxu/i5x71enpnc3blencjahqi1rn/image_1c4gf6sh21qoa4cu1ke1aesr635o.png)"
   ]
  },
  {
   "cell_type": "code",
   "execution_count": 2,
   "metadata": {},
   "outputs": [],
   "source": [
    "import numpy as np\n",
    "import pymc3 as pm\n",
    "#K, V, D = 2, 4, 3 # number of topics, words, documents\n",
    "import matplotlib.pyplot as plt\n",
    "import seaborn as sns\n",
    "sns.set_context(\"poster\")\n",
    "%matplotlib inline"
   ]
  },
  {
   "cell_type": "code",
   "execution_count": 3,
   "metadata": {},
   "outputs": [],
   "source": [
    "K, V, D = 5, 10, 20 # number of topics, words, documents\n",
    "\n",
    "#data = np.array([[1, 1, 1, 1], [1, 1, 1, 1], [0, 0, 0, 0]])\n",
    "\n",
    "data_temp = np.random.randint(0,10,size=(D,V))"
   ]
  },
  {
   "cell_type": "code",
   "execution_count": 8,
   "metadata": {},
   "outputs": [
    {
     "data": {
      "text/plain": [
       "(20, 10)"
      ]
     },
     "execution_count": 8,
     "metadata": {},
     "output_type": "execute_result"
    }
   ],
   "source": [
    "data_temp.shape # 20,10"
   ]
  },
  {
   "cell_type": "code",
   "execution_count": 51,
   "metadata": {},
   "outputs": [],
   "source": [
    "lda_model = pm.Model()\n",
    "with lda_model:\n",
    "    alpha = pm.HalfNormal('alpha', sd=1)\n",
    "    eta = pm.HalfNormal('eta', sd=1)\n",
    "    a1 = eta*np.ones(shape=(K,V))\n",
    "    a2 = alpha*np.ones(shape=(D,K))\n",
    "    theta = pm.Dirichlet('theta', a2, shape=(D,K)) # 每个文档的主题分布\n",
    "    beta = pm.Dirichlet('beta', a1, shape=(K,V))  # 每个主题的词分布\n",
    "    zs = [pm.Categorical(\"z_d{}\".format(d), p=theta[d], shape=V) for d in range(D)] # 对于每篇文档，我们采样主题分布\n",
    "    ws = [pm.Categorical(\"w_{}_{}\".format(d,i), p=beta[zs[d][i]], observed=data_temp[d][i]) \n",
    "    for d in range(D) for i in range(V)]"
   ]
  },
  {
   "cell_type": "code",
   "execution_count": 52,
   "metadata": {
    "collapsed": true
   },
   "outputs": [
    {
     "data": {
      "text/plain": [
       "[z_d0,\n",
       " z_d1,\n",
       " z_d2,\n",
       " z_d3,\n",
       " z_d4,\n",
       " z_d5,\n",
       " z_d6,\n",
       " z_d7,\n",
       " z_d8,\n",
       " z_d9,\n",
       " z_d10,\n",
       " z_d11,\n",
       " z_d12,\n",
       " z_d13,\n",
       " z_d14,\n",
       " z_d15,\n",
       " z_d16,\n",
       " z_d17,\n",
       " z_d18,\n",
       " z_d19]"
      ]
     },
     "execution_count": 52,
     "metadata": {},
     "output_type": "execute_result"
    }
   ],
   "source": [
    "zs  "
   ]
  },
  {
   "cell_type": "code",
   "execution_count": 53,
   "metadata": {},
   "outputs": [],
   "source": [
    "# with lda_model:\n",
    "#     ws = [pm.Categorical(\"w_{}_{}\".format(d,i), p=beta[zs[d][i]], observed=data_temp[d][i]) \n",
    "#     for d in range(D) for i in range(V)]\n",
    "#     z_d = [pm.Deterministic(\"z_d_{}_{}\".format(d,i), z[d][i]) for d in range(D) for i in range(V)]"
   ]
  },
  {
   "cell_type": "code",
   "execution_count": 54,
   "metadata": {
    "collapsed": true
   },
   "outputs": [
    {
     "name": "stderr",
     "output_type": "stream",
     "text": [
      "Assigned NUTS to alpha_log__\n",
      "Assigned NUTS to eta_log__\n",
      "Assigned NUTS to theta_stickbreaking__\n",
      "Assigned NUTS to beta_stickbreaking__\n",
      "Assigned CategoricalGibbsMetropolis to z_d0\n",
      "Assigned CategoricalGibbsMetropolis to z_d1\n",
      "Assigned CategoricalGibbsMetropolis to z_d2\n",
      "Assigned CategoricalGibbsMetropolis to z_d3\n",
      "Assigned CategoricalGibbsMetropolis to z_d4\n",
      "Assigned CategoricalGibbsMetropolis to z_d5\n",
      "Assigned CategoricalGibbsMetropolis to z_d6\n",
      "Assigned CategoricalGibbsMetropolis to z_d7\n",
      "Assigned CategoricalGibbsMetropolis to z_d8\n",
      "Assigned CategoricalGibbsMetropolis to z_d9\n",
      "Assigned CategoricalGibbsMetropolis to z_d10\n",
      "Assigned CategoricalGibbsMetropolis to z_d11\n",
      "Assigned CategoricalGibbsMetropolis to z_d12\n",
      "Assigned CategoricalGibbsMetropolis to z_d13\n",
      "Assigned CategoricalGibbsMetropolis to z_d14\n",
      "Assigned CategoricalGibbsMetropolis to z_d15\n",
      "Assigned CategoricalGibbsMetropolis to z_d16\n",
      "Assigned CategoricalGibbsMetropolis to z_d17\n",
      "Assigned CategoricalGibbsMetropolis to z_d18\n",
      "Assigned CategoricalGibbsMetropolis to z_d19\n",
      "100%|██████████| 2500/2500 [2:19:31<00:00,  3.35s/it]  /Users/zhuanxu/anaconda/envs/kaggle/lib/python3.6/site-packages/pymc3/step_methods/hmc/nuts.py:467: UserWarning: Chain 0 contains 19 diverging samples after tuning. If increasing `target_accept` does not help try to reparameterize.\n",
      "  % (self._chain_id, n_diverging))\n",
      "\n"
     ]
    }
   ],
   "source": [
    "with lda_model:\n",
    "    trace = pm.sample(2000)"
   ]
  },
  {
   "cell_type": "code",
   "execution_count": 56,
   "metadata": {},
   "outputs": [
    {
     "name": "stdout",
     "output_type": "stream",
     "text": [
      "[0 2 2 0 2 2 2 2 0 1]\n",
      "[0 4 2 1 4 3 3 3 3 3]\n",
      "[3 2 4 2 2 2 2 4 2 4]\n",
      "[3 0 0 1 0 1 0 0 0 4]\n",
      "[3 2 0 1 2 2 2 1 3 1]\n",
      "[0 0 2 3 3 4 4 0 4 3]\n",
      "[1 1 1 4 3 1 1 4 4 1]\n",
      "[3 2 4 2 4 0 4 4 4 2]\n",
      "[4 1 3 1 4 4 2 1 1 1]\n",
      "[4 2 1 0 0 4 2 1 4 1]\n",
      "[1 2 3 0 1 2 1 3 2 0]\n",
      "[0 3 1 0 0 0 4 1 0 1]\n",
      "[0 3 3 0 4 1 1 1 0 1]\n",
      "[3 0 4 0 2 4 3 3 3 0]\n",
      "[2 1 0 0 2 3 2 3 2 3]\n",
      "[2 0 1 2 3 2 2 2 2 2]\n",
      "[3 1 2 2 0 1 4 3 4 0]\n",
      "[4 0 0 1 0 0 0 0 0 4]\n",
      "[2 1 3 4 4 2 2 2 2 3]\n",
      "[3 3 0 4 4 1 0 0 2 3]\n"
     ]
    }
   ],
   "source": [
    "# 花了至少15分钟。。。真是太慢了。\n",
    "for d in range(D):\n",
    "    value_z=trace.get_values(\"z_d{}\".format(d))\n",
    "    print(value_z[1999])"
   ]
  },
  {
   "cell_type": "code",
   "execution_count": null,
   "metadata": {},
   "outputs": [],
   "source": []
  }
 ],
 "metadata": {
  "kernelspec": {
   "display_name": "Python 3",
   "language": "python",
   "name": "python3"
  },
  "language_info": {
   "codemirror_mode": {
    "name": "ipython",
    "version": 3
   },
   "file_extension": ".py",
   "mimetype": "text/x-python",
   "name": "python",
   "nbconvert_exporter": "python",
   "pygments_lexer": "ipython3",
   "version": "3.6.3"
  }
 },
 "nbformat": 4,
 "nbformat_minor": 2
}
